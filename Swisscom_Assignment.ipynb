{
 "cells": [
  {
   "cell_type": "markdown",
   "metadata": {},
   "source": [
    "# Swisscom Assignment : Fake Job posting Prediction\n",
    "\n",
    "***Dataset:*** [Fake Job posting Prediction](https://www.kaggle.com/shivamb/real-or-fake-fake-jobposting-prediction )\n",
    "\n",
    "***Task:*** *Predict which job posting is fake . Use both simple and complex NLP methods to do the job.*\n",
    "\n",
    "***Challenge:*** *It’s an unbalanced dataset*"
   ]
  },
  {
   "cell_type": "code",
   "execution_count": 1,
   "metadata": {},
   "outputs": [],
   "source": [
    "import pandas as pd\n",
    "import ast\n",
    "\n",
    "from preprocessing import Preprocessing\n",
    "from feature_extraction import FeatureExtract\n",
    "from models import Models"
   ]
  },
  {
   "cell_type": "markdown",
   "metadata": {},
   "source": [
    "### Load dataset"
   ]
  },
  {
   "cell_type": "markdown",
   "metadata": {},
   "source": [
    "- The processing includes a spell checker which takes some time to compute. \n",
    "- Run the cells below \"First Time\" if you haven't saved the preprocessing before. \n",
    "- Otherwise ignore those cells and strat from \"Already processed\" to reload the preprocessed dataframe."
   ]
  },
  {
   "cell_type": "markdown",
   "metadata": {},
   "source": [
    "#### First time"
   ]
  },
  {
   "cell_type": "code",
   "execution_count": 2,
   "metadata": {},
   "outputs": [],
   "source": [
    "#df = pd.read_csv('fake_job_postings.csv')"
   ]
  },
  {
   "cell_type": "code",
   "execution_count": 3,
   "metadata": {},
   "outputs": [],
   "source": [
    "#prepro = Preprocessing()\n",
    "#processed_df = prepro.preprocess_text(df, 'description','stem')"
   ]
  },
  {
   "cell_type": "code",
   "execution_count": 4,
   "metadata": {},
   "outputs": [],
   "source": [
    "#processed_df.to_csv('./data/spelled_df.csv')"
   ]
  },
  {
   "cell_type": "markdown",
   "metadata": {},
   "source": [
    "#### Already processed"
   ]
  },
  {
   "cell_type": "code",
   "execution_count": 5,
   "metadata": {},
   "outputs": [],
   "source": [
    "processed_df = pd.read_csv('./data/spelled_df.csv')\n",
    "processed_df.stem_lem = processed_df.stem_lem.apply(lambda x: ast.literal_eval(x))"
   ]
  },
  {
   "cell_type": "markdown",
   "metadata": {},
   "source": [
    "### Dataset preparation"
   ]
  },
  {
   "cell_type": "markdown",
   "metadata": {},
   "source": [
    "- Text feature extraction with TFIDF \n",
    "- PCA\n",
    "- train / test preparation."
   ]
  },
  {
   "cell_type": "code",
   "execution_count": 6,
   "metadata": {},
   "outputs": [],
   "source": [
    "feat = FeatureExtract(processed_df)\n",
    "X_df, y_df = feat.full_df()"
   ]
  },
  {
   "cell_type": "code",
   "execution_count": 7,
   "metadata": {},
   "outputs": [],
   "source": [
    "my_models = Models()"
   ]
  },
  {
   "cell_type": "code",
   "execution_count": 8,
   "metadata": {},
   "outputs": [
    {
     "name": "stdout",
     "output_type": "stream",
     "text": [
      "Train/Test split done. Start PCA...\n",
      "PCA done.\n"
     ]
    }
   ],
   "source": [
    "X_tr, X_te, y_tr, y_te = my_models.data_set_prep(X_df, y_df)"
   ]
  },
  {
   "cell_type": "markdown",
   "metadata": {},
   "source": [
    "### Models training and comparison"
   ]
  },
  {
   "cell_type": "code",
   "execution_count": 9,
   "metadata": {},
   "outputs": [
    {
     "name": "stdout",
     "output_type": "stream",
     "text": [
      "Logistic Reg created. Start fitting the model...\n",
      "LR trained. Start prediction...\n",
      "RF AUC-ROC score : 0.6816749575523268\n",
      "RF AUC-ROC score with probas : 0.9490172835439554\n"
     ]
    }
   ],
   "source": [
    "LR = my_models.logistic_reg(X_tr, X_te, y_tr, y_te)"
   ]
  },
  {
   "cell_type": "code",
   "execution_count": 10,
   "metadata": {},
   "outputs": [
    {
     "name": "stdout",
     "output_type": "stream",
     "text": [
      "Decision tree created. Start fitting the model...\n",
      "DT trained. Start prediction...\n",
      "RF AUC-ROC score : 0.7491296466251526\n",
      "RF AUC-ROC score with probas : 0.7491296466251526\n"
     ]
    }
   ],
   "source": [
    "DT = my_models.decision_tree(X_tr, X_te, y_tr, y_te)"
   ]
  },
  {
   "cell_type": "code",
   "execution_count": 11,
   "metadata": {},
   "outputs": [
    {
     "name": "stdout",
     "output_type": "stream",
     "text": [
      "RandomForest created. Start fitting the model...\n",
      "RF trained. Start prediction...\n",
      "RF AUC-ROC score : 0.7027649769585254\n",
      "RF AUC-ROC score with probas : 0.9224689322039958\n"
     ]
    }
   ],
   "source": [
    "RF = my_models.random_forest(X_tr, X_te, y_tr, y_te)"
   ]
  },
  {
   "cell_type": "code",
   "execution_count": 12,
   "metadata": {},
   "outputs": [
    {
     "data": {
      "image/png": "[encoded data removed]",
      "text/plain": [
       "<Figure size 432x288 with 1 Axes>"
      ]
     },
     "metadata": {
      "needs_background": "light"
     },
     "output_type": "display_data"
    }
   ],
   "source": [
    "my_models.plot_ROC_curves([LR, RF, DT], X_te, y_te)"
   ]
  }
 ],
 "metadata": {
  "kernelspec": {
   "display_name": "Python 3",
   "language": "python",
   "name": "python3"
  },
  "language_info": {
   "codemirror_mode": {
    "name": "ipython",
    "version": 3
   },
   "file_extension": ".py",
   "mimetype": "text/x-python",
   "name": "python",
   "nbconvert_exporter": "python",
   "pygments_lexer": "ipython3",
   "version": "3.7.4"
  }
 },
 "nbformat": 4,
 "nbformat_minor": 4
}
